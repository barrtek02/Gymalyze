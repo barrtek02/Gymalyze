{
 "cells": [
  {
   "cell_type": "code",
   "id": "initial_id",
   "metadata": {
    "collapsed": true,
    "ExecuteTime": {
     "end_time": "2024-11-29T09:35:18.178861Z",
     "start_time": "2024-11-29T09:35:12.501916Z"
    }
   },
   "source": [
    "import numpy as np\n",
    "from sklearn.model_selection import train_test_split\n",
    "from sklearn.metrics import confusion_matrix, ConfusionMatrixDisplay\n",
    "from src.data.exercise_data import ExerciseDataset\n",
    "from torch.utils.data import DataLoader\n",
    "import torch\n",
    "import torch.nn as nn\n",
    "from src.models.lstm import ExerciseLSTM\n",
    "import matplotlib.pyplot as plt"
   ],
   "outputs": [],
   "execution_count": 1
  },
  {
   "cell_type": "code",
   "id": "f704b820a6ea39c5",
   "metadata": {
    "ExecuteTime": {
     "end_time": "2024-11-29T09:35:20.118821Z",
     "start_time": "2024-11-29T09:35:18.213869Z"
    }
   },
   "source": [
    "X = np.load(r'C:\\Users\\barrt\\PycharmProjects\\Gymalyze\\src\\data\\landmarks_data.npy', allow_pickle=True)\n",
    "y = np.load(r'C:\\Users\\barrt\\PycharmProjects\\Gymalyze\\src\\data\\labels_data.npy',    allow_pickle=True)\n",
    "\n",
    "print(f\"Loaded X shape: {X.shape}\")\n",
    "print(f\"Loaded y shape: {y.shape}\")\n",
    "\n",
    "if y.ndim == 2 and y.shape[1] == 1:\n",
    "    y = y.reshape(-1)\n",
    "    \n",
    "print(f\"Loaded X shape: {X.shape}\")\n",
    "print(f\"Loaded y shape: {y.shape}\")"
   ],
   "outputs": [
    {
     "name": "stdout",
     "output_type": "stream",
     "text": [
      "Loaded X shape: (761, 300, 132)\n",
      "Loaded y shape: (761, 1)\n",
      "Loaded X shape: (761, 300, 132)\n",
      "Loaded y shape: (761,)\n"
     ]
    }
   ],
   "execution_count": 2
  },
  {
   "cell_type": "code",
   "id": "40e26b1906ee364d",
   "metadata": {
    "ExecuteTime": {
     "end_time": "2024-11-29T09:35:20.322004Z",
     "start_time": "2024-11-29T09:35:20.277075Z"
    }
   },
   "source": [
    "labels_to_keep = [0, 1, 4, 7, 9]\n",
    "mask = np.isin(y, labels_to_keep)\n",
    "X_filtered = X[mask]\n",
    "y_filtered = y[mask]\n",
    "\n",
    "print(f\"Filtered X shape: {X_filtered.shape}\")\n",
    "print(f\"Filtered y shape: {y_filtered.shape}\")\n",
    "print(f\"Unique labels in filtered data: {np.unique(y_filtered)}\")\n"
   ],
   "outputs": [
    {
     "name": "stdout",
     "output_type": "stream",
     "text": [
      "Filtered X shape: (227, 300, 132)\n",
      "Filtered y shape: (227,)\n",
      "Unique labels in filtered data: [0 1 4 7 9]\n"
     ]
    }
   ],
   "execution_count": 3
  },
  {
   "cell_type": "code",
   "id": "3f8ca08dbe1a6eb4",
   "metadata": {
    "ExecuteTime": {
     "end_time": "2024-11-29T09:35:20.497138Z",
     "start_time": "2024-11-29T09:35:20.370749Z"
    }
   },
   "source": [
    "\n",
    "# Step 1: Calculate lengths\n",
    "sequence_lengths = [len(sequence) for sequence in X]\n",
    "\n",
    "\n",
    "# Step 2: Plot the lengths\n",
    "plt.plot(sequence_lengths)\n",
    "plt.xlabel('Sequence Index')\n",
    "plt.ylabel('Length of First Element')\n",
    "plt.title('Length of First Element in Each Sequence')\n",
    "plt.show()"
   ],
   "outputs": [
    {
     "data": {
      "text/plain": [
       "<Figure size 640x480 with 1 Axes>"
      ],
      "image/png": "[encoded data removed]"
     },
     "metadata": {},
     "output_type": "display_data"
    }
   ],
   "execution_count": 4
  },
  {
   "cell_type": "code",
   "id": "4e7f8e4339629000",
   "metadata": {
    "ExecuteTime": {
     "end_time": "2024-11-29T09:35:20.521268Z",
     "start_time": "2024-11-29T09:35:20.516993Z"
    }
   },
   "source": [
    "label_mapping = {original_label: new_label for new_label, original_label in enumerate(labels_to_keep)}\n",
    "y_mapped = np.array([label_mapping[label] for label in y_filtered], dtype=np.int64)\n",
    "print(f\"Mapped labels: {np.unique(y_mapped)}\")"
   ],
   "outputs": [
    {
     "name": "stdout",
     "output_type": "stream",
     "text": [
      "Mapped labels: [0 1 2 3 4]\n"
     ]
    }
   ],
   "execution_count": 5
  },
  {
   "cell_type": "code",
   "id": "87beeba5fcf69706",
   "metadata": {
    "ExecuteTime": {
     "end_time": "2024-11-29T09:35:42.633947Z",
     "start_time": "2024-11-29T09:35:42.462635Z"
    }
   },
   "source": [
    "X_train, X_test, y_train, y_test = train_test_split(\n",
    "    X_filtered, y_mapped, test_size=0.2, random_state=42, stratify=y_mapped)\n",
    "\n",
    "train_dataset = ExerciseDataset(X_train, y_train)\n",
    "test_dataset = ExerciseDataset(X_test, y_test)\n",
    "\n",
    "batch_size = 32\n",
    "train_loader = DataLoader(train_dataset, batch_size=batch_size, shuffle=True, num_workers=4, pin_memory=True)\n",
    "test_loader  = DataLoader(test_dataset, batch_size=batch_size, shuffle=False, num_workers=4, pin_memory=True)\n"
   ],
   "outputs": [],
   "execution_count": 6
  },
  {
   "cell_type": "code",
   "id": "b7411c1a1aeb687a",
   "metadata": {
    "ExecuteTime": {
     "end_time": "2024-11-29T09:35:48.103663Z",
     "start_time": "2024-11-29T09:35:45.397482Z"
    }
   },
   "source": [
    "sequence_length = 300\n",
    "input_size = 132\n",
    "hidden_size = 512\n",
    "num_layers = 1\n",
    "num_classes = len(labels_to_keep)\n",
    "\n",
    "model = ExerciseLSTM(input_size, hidden_size, num_layers, num_classes)\n",
    "\n",
    "device = torch.device('cuda' if torch.cuda.is_available() else 'cpu')\n",
    "print(f\"Using device: {device}\")\n",
    "\n",
    "model.to(device)\n",
    "\n",
    "criterion = nn.CrossEntropyLoss()\n",
    "optimizer = torch.optim.Adam(model.parameters(), lr=0.001)"
   ],
   "outputs": [
    {
     "name": "stdout",
     "output_type": "stream",
     "text": [
      "Using device: cuda\n"
     ]
    }
   ],
   "execution_count": 7
  },
  {
   "cell_type": "code",
   "id": "54b86e73c9c6f798",
   "metadata": {
    "ExecuteTime": {
     "end_time": "2024-11-28T23:07:48.221597Z",
     "start_time": "2024-11-28T23:07:48.216996Z"
    }
   },
   "source": [
    "# num_epochs = 30  # Adjust based on your needs\n",
    "# \n",
    "# for epoch in range(num_epochs):\n",
    "#     model.train()\n",
    "#     total_loss = 0\n",
    "#     for sequences, labels in train_loader:\n",
    "#         sequences = sequences.to(device, non_blocking=True)  # Shape: (batch_size, seq_length, input_size)\n",
    "#         labels = labels.to(device, non_blocking=True)\n",
    "#         \n",
    "#         outputs = model(sequences)\n",
    "#         loss = criterion(outputs, labels)\n",
    "#         \n",
    "#         optimizer.zero_grad()\n",
    "#         loss.backward()\n",
    "#         optimizer.step()\n",
    "#         \n",
    "#         total_loss += loss.item()\n",
    "#     \n",
    "#     avg_loss = total_loss / len(train_loader)\n",
    "#     \n",
    "#     model.eval()\n",
    "#     with torch.no_grad():\n",
    "#         correct = 0\n",
    "#         total = 0\n",
    "#         for sequences, labels in test_loader:\n",
    "#             sequences = sequences.to(device, non_blocking=True)\n",
    "#             labels = labels.to(device, non_blocking=True)\n",
    "#             outputs = model(sequences)\n",
    "#             _, predicted = torch.max(outputs.data, 1)\n",
    "#             total += labels.size(0)\n",
    "#             correct += (predicted == labels).sum().item()\n",
    "#         accuracy = 100 * correct / total\n",
    "#     \n",
    "#     print(f'Epoch [{epoch+1}/{num_epochs}], Loss: {avg_loss:.4f}, Test Accuracy: {accuracy:.2f}%')\n",
    "# \n",
    "# # ---------------------- Save the Model ----------------------\n",
    "# \n",
    "# torch.save(model.state_dict(), 'lstm_v3.pth')\n",
    "# print(\"Model saved to 'lstm_v3\\\n",
    "#  .pth'\")"
   ],
   "outputs": [],
   "execution_count": 19
  },
  {
   "metadata": {
    "ExecuteTime": {
     "end_time": "2024-11-29T09:45:55.409607Z",
     "start_time": "2024-11-29T09:44:00.270939Z"
    }
   },
   "cell_type": "code",
   "source": [
    "from sklearn.model_selection import KFold\n",
    "import numpy as np\n",
    "import torch\n",
    "from torch.utils.data import DataLoader, Subset\n",
    "from sklearn.metrics import accuracy_score\n",
    "\n",
    "# Parametry modelu\n",
    "sequence_length = 300\n",
    "input_size = 132\n",
    "hidden_size = 512\n",
    "num_layers = 2\n",
    "num_classes = 5\n",
    "num_epochs = 50\n",
    "batch_size = 32\n",
    "\n",
    "# KFold Cross Validation\n",
    "k_folds = 5\n",
    "kfold = KFold(n_splits=k_folds, shuffle=True, random_state=42)\n",
    "\n",
    "# Statystyki do porównania\n",
    "fold_results = []\n",
    "\n",
    "# Funkcja do resetowania modelu dla każdego folda\n",
    "def initialize_model():\n",
    "    model = ExerciseLSTM(input_size, hidden_size, num_layers, num_classes)\n",
    "    model.to(device)\n",
    "    optimizer = torch.optim.Adam(model.parameters(), lr=0.001)\n",
    "    criterion = nn.CrossEntropyLoss()\n",
    "    return model, optimizer, criterion\n",
    "\n",
    "for fold, (train_ids, test_ids) in enumerate(kfold.split(range(len(train_dataset)))):\n",
    "    print(f\"Fold {fold + 1}/{k_folds}\")\n",
    "    \n",
    "    # Podziel dane\n",
    "    train_subset = Subset(train_dataset, train_ids)\n",
    "    test_subset = Subset(train_dataset, test_ids)\n",
    "    train_loader = DataLoader(train_subset, batch_size=batch_size, shuffle=True)\n",
    "    test_loader = DataLoader(test_subset, batch_size=batch_size, shuffle=False)\n",
    "    \n",
    "    # Inicjalizacja modelu\n",
    "    model, optimizer, criterion = initialize_model()\n",
    "    \n",
    "    # Trening\n",
    "    for epoch in range(num_epochs):\n",
    "        model.train()\n",
    "        total_loss = 0\n",
    "        for sequences, labels in train_loader:\n",
    "            sequences, labels = sequences.to(device), labels.to(device)\n",
    "            optimizer.zero_grad()\n",
    "            \n",
    "            outputs = model(sequences)\n",
    "            loss = criterion(outputs, labels)\n",
    "            loss.backward()\n",
    "            optimizer.step()\n",
    "            \n",
    "            total_loss += loss.item()\n",
    "        \n",
    "        avg_loss = total_loss / len(train_loader)\n",
    "        \n",
    "        # Ewaluacja na zbiorze walidacyjnym\n",
    "        model.eval()\n",
    "        with torch.no_grad():\n",
    "            all_labels = []\n",
    "            all_predictions = []\n",
    "            for sequences, labels in test_loader:\n",
    "                sequences, labels = sequences.to(device), labels.to(device)\n",
    "                outputs = model(sequences)\n",
    "                _, predicted = torch.max(outputs.data, 1)\n",
    "                all_labels.extend(labels.cpu().numpy())\n",
    "                all_predictions.extend(predicted.cpu().numpy())\n",
    "        \n",
    "        accuracy = accuracy_score(all_labels, all_predictions) * 100\n",
    "        print(f\"Epoch [{epoch + 1}/{num_epochs}], Loss: {avg_loss:.4f}, Validation Accuracy: {accuracy:.2f}%\")\n",
    "    \n",
    "    # Zapisz wyniki dla tego folda\n",
    "    fold_results.append({\n",
    "        \"fold\": fold + 1,\n",
    "        \"final_loss\": avg_loss,\n",
    "        \"final_accuracy\": accuracy\n",
    "    })\n",
    "\n",
    "# Wyniki końcowe\n",
    "print(\"\\nCross-Validation Results:\")\n",
    "for result in fold_results:\n",
    "    print(f\"Fold {result['fold']} - Final Loss: {result['final_loss']:.4f}, Final Accuracy: {result['final_accuracy']:.2f}%\")\n",
    "    \n",
    "mean_accuracy = np.mean([result['final_accuracy'] for result in fold_results])\n",
    "print(f\"Mean Accuracy across {k_folds} folds: {mean_accuracy:.2f}%\")\n"
   ],
   "id": "e5365a92d99cac8c",
   "outputs": [
    {
     "name": "stdout",
     "output_type": "stream",
     "text": [
      "Fold 1/5\n",
      "Epoch [1/50], Loss: 1.5437, Validation Accuracy: 40.54%\n",
      "Epoch [2/50], Loss: 1.1055, Validation Accuracy: 56.76%\n",
      "Epoch [3/50], Loss: 1.0676, Validation Accuracy: 59.46%\n",
      "Epoch [4/50], Loss: 0.7574, Validation Accuracy: 54.05%\n",
      "Epoch [5/50], Loss: 0.7959, Validation Accuracy: 72.97%\n",
      "Epoch [6/50], Loss: 0.5762, Validation Accuracy: 72.97%\n",
      "Epoch [7/50], Loss: 0.5646, Validation Accuracy: 64.86%\n",
      "Epoch [8/50], Loss: 0.8006, Validation Accuracy: 64.86%\n",
      "Epoch [9/50], Loss: 0.5722, Validation Accuracy: 72.97%\n",
      "Epoch [10/50], Loss: 0.5050, Validation Accuracy: 67.57%\n",
      "Epoch [11/50], Loss: 0.4277, Validation Accuracy: 62.16%\n",
      "Epoch [12/50], Loss: 0.9452, Validation Accuracy: 48.65%\n",
      "Epoch [13/50], Loss: 1.1635, Validation Accuracy: 56.76%\n",
      "Epoch [14/50], Loss: 0.7307, Validation Accuracy: 67.57%\n",
      "Epoch [15/50], Loss: 0.6577, Validation Accuracy: 70.27%\n",
      "Epoch [16/50], Loss: 0.6657, Validation Accuracy: 64.86%\n",
      "Epoch [17/50], Loss: 0.4480, Validation Accuracy: 72.97%\n",
      "Epoch [18/50], Loss: 0.4070, Validation Accuracy: 70.27%\n",
      "Epoch [19/50], Loss: 0.3562, Validation Accuracy: 75.68%\n",
      "Epoch [20/50], Loss: 0.3639, Validation Accuracy: 72.97%\n",
      "Epoch [21/50], Loss: 0.3098, Validation Accuracy: 67.57%\n",
      "Epoch [22/50], Loss: 0.3584, Validation Accuracy: 78.38%\n",
      "Epoch [23/50], Loss: 0.2644, Validation Accuracy: 72.97%\n",
      "Epoch [24/50], Loss: 0.3544, Validation Accuracy: 70.27%\n",
      "Epoch [25/50], Loss: 0.2926, Validation Accuracy: 70.27%\n",
      "Epoch [26/50], Loss: 0.3517, Validation Accuracy: 81.08%\n",
      "Epoch [27/50], Loss: 0.2226, Validation Accuracy: 78.38%\n",
      "Epoch [28/50], Loss: 0.2264, Validation Accuracy: 75.68%\n",
      "Epoch [29/50], Loss: 0.1239, Validation Accuracy: 83.78%\n",
      "Epoch [30/50], Loss: 0.1357, Validation Accuracy: 86.49%\n",
      "Epoch [31/50], Loss: 0.2463, Validation Accuracy: 78.38%\n",
      "Epoch [32/50], Loss: 0.1873, Validation Accuracy: 78.38%\n",
      "Epoch [33/50], Loss: 0.2885, Validation Accuracy: 75.68%\n",
      "Epoch [34/50], Loss: 0.3300, Validation Accuracy: 78.38%\n",
      "Epoch [35/50], Loss: 0.2172, Validation Accuracy: 78.38%\n",
      "Epoch [36/50], Loss: 0.1368, Validation Accuracy: 78.38%\n",
      "Epoch [37/50], Loss: 0.1114, Validation Accuracy: 75.68%\n",
      "Epoch [38/50], Loss: 0.0891, Validation Accuracy: 78.38%\n",
      "Epoch [39/50], Loss: 0.0783, Validation Accuracy: 78.38%\n",
      "Epoch [40/50], Loss: 0.0641, Validation Accuracy: 78.38%\n",
      "Epoch [41/50], Loss: 0.0555, Validation Accuracy: 75.68%\n",
      "Epoch [42/50], Loss: 0.0281, Validation Accuracy: 75.68%\n",
      "Epoch [43/50], Loss: 0.2212, Validation Accuracy: 70.27%\n",
      "Epoch [44/50], Loss: 0.1285, Validation Accuracy: 64.86%\n",
      "Epoch [45/50], Loss: 0.0861, Validation Accuracy: 67.57%\n",
      "Epoch [46/50], Loss: 0.0894, Validation Accuracy: 78.38%\n",
      "Epoch [47/50], Loss: 0.0822, Validation Accuracy: 67.57%\n",
      "Epoch [48/50], Loss: 0.1796, Validation Accuracy: 75.68%\n",
      "Epoch [49/50], Loss: 0.1981, Validation Accuracy: 70.27%\n",
      "Epoch [50/50], Loss: 0.1146, Validation Accuracy: 78.38%\n",
      "Fold 2/5\n",
      "Epoch [1/50], Loss: 1.5866, Validation Accuracy: 55.56%\n",
      "Epoch [2/50], Loss: 1.2525, Validation Accuracy: 61.11%\n",
      "Epoch [3/50], Loss: 1.0635, Validation Accuracy: 47.22%\n",
      "Epoch [4/50], Loss: 0.8663, Validation Accuracy: 66.67%\n",
      "Epoch [5/50], Loss: 0.9352, Validation Accuracy: 69.44%\n",
      "Epoch [6/50], Loss: 0.8399, Validation Accuracy: 61.11%\n",
      "Epoch [7/50], Loss: 0.8898, Validation Accuracy: 61.11%\n",
      "Epoch [8/50], Loss: 0.9729, Validation Accuracy: 58.33%\n",
      "Epoch [9/50], Loss: 0.8878, Validation Accuracy: 69.44%\n",
      "Epoch [10/50], Loss: 0.7669, Validation Accuracy: 75.00%\n",
      "Epoch [11/50], Loss: 0.8345, Validation Accuracy: 72.22%\n",
      "Epoch [12/50], Loss: 0.6421, Validation Accuracy: 66.67%\n",
      "Epoch [13/50], Loss: 0.5717, Validation Accuracy: 77.78%\n",
      "Epoch [14/50], Loss: 0.4456, Validation Accuracy: 69.44%\n",
      "Epoch [15/50], Loss: 0.4947, Validation Accuracy: 77.78%\n",
      "Epoch [16/50], Loss: 0.4153, Validation Accuracy: 75.00%\n",
      "Epoch [17/50], Loss: 0.3585, Validation Accuracy: 69.44%\n",
      "Epoch [18/50], Loss: 0.3359, Validation Accuracy: 72.22%\n",
      "Epoch [19/50], Loss: 0.3493, Validation Accuracy: 80.56%\n",
      "Epoch [20/50], Loss: 0.2990, Validation Accuracy: 72.22%\n",
      "Epoch [21/50], Loss: 0.3582, Validation Accuracy: 77.78%\n",
      "Epoch [22/50], Loss: 0.6244, Validation Accuracy: 77.78%\n",
      "Epoch [23/50], Loss: 0.3570, Validation Accuracy: 72.22%\n",
      "Epoch [24/50], Loss: 0.3407, Validation Accuracy: 77.78%\n",
      "Epoch [25/50], Loss: 0.3941, Validation Accuracy: 75.00%\n",
      "Epoch [26/50], Loss: 0.2742, Validation Accuracy: 80.56%\n",
      "Epoch [27/50], Loss: 0.1823, Validation Accuracy: 77.78%\n",
      "Epoch [28/50], Loss: 0.2862, Validation Accuracy: 80.56%\n",
      "Epoch [29/50], Loss: 0.3152, Validation Accuracy: 77.78%\n",
      "Epoch [30/50], Loss: 0.2178, Validation Accuracy: 80.56%\n",
      "Epoch [31/50], Loss: 0.2798, Validation Accuracy: 77.78%\n",
      "Epoch [32/50], Loss: 0.3633, Validation Accuracy: 80.56%\n",
      "Epoch [33/50], Loss: 0.1877, Validation Accuracy: 80.56%\n",
      "Epoch [34/50], Loss: 0.1966, Validation Accuracy: 83.33%\n",
      "Epoch [35/50], Loss: 0.1724, Validation Accuracy: 77.78%\n",
      "Epoch [36/50], Loss: 0.2224, Validation Accuracy: 80.56%\n",
      "Epoch [37/50], Loss: 0.6207, Validation Accuracy: 69.44%\n",
      "Epoch [38/50], Loss: 1.1376, Validation Accuracy: 58.33%\n",
      "Epoch [39/50], Loss: 0.7389, Validation Accuracy: 66.67%\n",
      "Epoch [40/50], Loss: 0.6077, Validation Accuracy: 72.22%\n",
      "Epoch [41/50], Loss: 0.4538, Validation Accuracy: 75.00%\n",
      "Epoch [42/50], Loss: 0.3890, Validation Accuracy: 77.78%\n",
      "Epoch [43/50], Loss: 0.2786, Validation Accuracy: 83.33%\n",
      "Epoch [44/50], Loss: 0.2406, Validation Accuracy: 80.56%\n",
      "Epoch [45/50], Loss: 0.4710, Validation Accuracy: 55.56%\n",
      "Epoch [46/50], Loss: 0.7018, Validation Accuracy: 52.78%\n",
      "Epoch [47/50], Loss: 0.5776, Validation Accuracy: 66.67%\n",
      "Epoch [48/50], Loss: 0.5250, Validation Accuracy: 77.78%\n",
      "Epoch [49/50], Loss: 0.4780, Validation Accuracy: 72.22%\n",
      "Epoch [50/50], Loss: 0.3234, Validation Accuracy: 80.56%\n",
      "Fold 3/5\n",
      "Epoch [1/50], Loss: 1.5268, Validation Accuracy: 50.00%\n",
      "Epoch [2/50], Loss: 1.1992, Validation Accuracy: 72.22%\n",
      "Epoch [3/50], Loss: 1.0308, Validation Accuracy: 58.33%\n",
      "Epoch [4/50], Loss: 1.0948, Validation Accuracy: 55.56%\n",
      "Epoch [5/50], Loss: 0.8301, Validation Accuracy: 72.22%\n",
      "Epoch [6/50], Loss: 0.6532, Validation Accuracy: 69.44%\n",
      "Epoch [7/50], Loss: 0.5823, Validation Accuracy: 66.67%\n",
      "Epoch [8/50], Loss: 0.7232, Validation Accuracy: 75.00%\n",
      "Epoch [9/50], Loss: 0.6120, Validation Accuracy: 72.22%\n",
      "Epoch [10/50], Loss: 0.5165, Validation Accuracy: 66.67%\n",
      "Epoch [11/50], Loss: 0.4546, Validation Accuracy: 69.44%\n",
      "Epoch [12/50], Loss: 0.4216, Validation Accuracy: 75.00%\n",
      "Epoch [13/50], Loss: 0.4479, Validation Accuracy: 69.44%\n",
      "Epoch [14/50], Loss: 0.4112, Validation Accuracy: 66.67%\n",
      "Epoch [15/50], Loss: 0.4758, Validation Accuracy: 69.44%\n",
      "Epoch [16/50], Loss: 0.3999, Validation Accuracy: 75.00%\n",
      "Epoch [17/50], Loss: 0.3965, Validation Accuracy: 75.00%\n",
      "Epoch [18/50], Loss: 0.3346, Validation Accuracy: 77.78%\n",
      "Epoch [19/50], Loss: 0.2999, Validation Accuracy: 72.22%\n",
      "Epoch [20/50], Loss: 0.2670, Validation Accuracy: 69.44%\n",
      "Epoch [21/50], Loss: 0.3096, Validation Accuracy: 69.44%\n",
      "Epoch [22/50], Loss: 0.2317, Validation Accuracy: 77.78%\n",
      "Epoch [23/50], Loss: 0.2479, Validation Accuracy: 83.33%\n",
      "Epoch [24/50], Loss: 0.2164, Validation Accuracy: 75.00%\n",
      "Epoch [25/50], Loss: 0.1670, Validation Accuracy: 72.22%\n",
      "Epoch [26/50], Loss: 0.2049, Validation Accuracy: 72.22%\n",
      "Epoch [27/50], Loss: 0.2156, Validation Accuracy: 72.22%\n",
      "Epoch [28/50], Loss: 0.2189, Validation Accuracy: 72.22%\n",
      "Epoch [29/50], Loss: 0.1926, Validation Accuracy: 80.56%\n",
      "Epoch [30/50], Loss: 0.1726, Validation Accuracy: 80.56%\n",
      "Epoch [31/50], Loss: 0.1477, Validation Accuracy: 77.78%\n",
      "Epoch [32/50], Loss: 0.1046, Validation Accuracy: 77.78%\n",
      "Epoch [33/50], Loss: 0.1251, Validation Accuracy: 80.56%\n",
      "Epoch [34/50], Loss: 0.1033, Validation Accuracy: 80.56%\n",
      "Epoch [35/50], Loss: 0.4088, Validation Accuracy: 77.78%\n",
      "Epoch [36/50], Loss: 0.4891, Validation Accuracy: 77.78%\n",
      "Epoch [37/50], Loss: 0.2213, Validation Accuracy: 77.78%\n",
      "Epoch [38/50], Loss: 0.2702, Validation Accuracy: 72.22%\n",
      "Epoch [39/50], Loss: 0.1896, Validation Accuracy: 75.00%\n",
      "Epoch [40/50], Loss: 0.1456, Validation Accuracy: 72.22%\n",
      "Epoch [41/50], Loss: 0.1440, Validation Accuracy: 75.00%\n",
      "Epoch [42/50], Loss: 0.1846, Validation Accuracy: 80.56%\n",
      "Epoch [43/50], Loss: 0.2391, Validation Accuracy: 80.56%\n",
      "Epoch [44/50], Loss: 0.2153, Validation Accuracy: 77.78%\n",
      "Epoch [45/50], Loss: 0.3127, Validation Accuracy: 72.22%\n",
      "Epoch [46/50], Loss: 0.5670, Validation Accuracy: 61.11%\n",
      "Epoch [47/50], Loss: 0.4222, Validation Accuracy: 75.00%\n",
      "Epoch [48/50], Loss: 0.3799, Validation Accuracy: 77.78%\n",
      "Epoch [49/50], Loss: 0.2648, Validation Accuracy: 75.00%\n",
      "Epoch [50/50], Loss: 0.2369, Validation Accuracy: 80.56%\n",
      "Fold 4/5\n",
      "Epoch [1/50], Loss: 1.5488, Validation Accuracy: 38.89%\n",
      "Epoch [2/50], Loss: 1.0269, Validation Accuracy: 44.44%\n",
      "Epoch [3/50], Loss: 1.1124, Validation Accuracy: 47.22%\n",
      "Epoch [4/50], Loss: 1.1300, Validation Accuracy: 44.44%\n",
      "Epoch [5/50], Loss: 0.9701, Validation Accuracy: 50.00%\n",
      "Epoch [6/50], Loss: 0.8213, Validation Accuracy: 50.00%\n",
      "Epoch [7/50], Loss: 0.7340, Validation Accuracy: 58.33%\n",
      "Epoch [8/50], Loss: 0.6572, Validation Accuracy: 52.78%\n",
      "Epoch [9/50], Loss: 0.6004, Validation Accuracy: 58.33%\n",
      "Epoch [10/50], Loss: 0.5551, Validation Accuracy: 66.67%\n",
      "Epoch [11/50], Loss: 0.4904, Validation Accuracy: 75.00%\n",
      "Epoch [12/50], Loss: 0.4316, Validation Accuracy: 75.00%\n",
      "Epoch [13/50], Loss: 0.4260, Validation Accuracy: 75.00%\n",
      "Epoch [14/50], Loss: 1.0909, Validation Accuracy: 47.22%\n",
      "Epoch [15/50], Loss: 1.1291, Validation Accuracy: 55.56%\n",
      "Epoch [16/50], Loss: 1.0844, Validation Accuracy: 58.33%\n",
      "Epoch [17/50], Loss: 0.8600, Validation Accuracy: 61.11%\n",
      "Epoch [18/50], Loss: 0.7578, Validation Accuracy: 58.33%\n",
      "Epoch [19/50], Loss: 0.8197, Validation Accuracy: 52.78%\n",
      "Epoch [20/50], Loss: 0.8575, Validation Accuracy: 47.22%\n",
      "Epoch [21/50], Loss: 0.8510, Validation Accuracy: 69.44%\n",
      "Epoch [22/50], Loss: 0.7782, Validation Accuracy: 72.22%\n",
      "Epoch [23/50], Loss: 0.5971, Validation Accuracy: 58.33%\n",
      "Epoch [24/50], Loss: 0.5912, Validation Accuracy: 63.89%\n",
      "Epoch [25/50], Loss: 0.4748, Validation Accuracy: 77.78%\n",
      "Epoch [26/50], Loss: 0.5049, Validation Accuracy: 80.56%\n",
      "Epoch [27/50], Loss: 0.4439, Validation Accuracy: 75.00%\n",
      "Epoch [28/50], Loss: 0.4293, Validation Accuracy: 75.00%\n",
      "Epoch [29/50], Loss: 0.3991, Validation Accuracy: 77.78%\n",
      "Epoch [30/50], Loss: 0.3289, Validation Accuracy: 83.33%\n",
      "Epoch [31/50], Loss: 0.3324, Validation Accuracy: 77.78%\n",
      "Epoch [32/50], Loss: 0.3319, Validation Accuracy: 86.11%\n",
      "Epoch [33/50], Loss: 0.2258, Validation Accuracy: 86.11%\n",
      "Epoch [34/50], Loss: 0.2163, Validation Accuracy: 86.11%\n",
      "Epoch [35/50], Loss: 0.9266, Validation Accuracy: 55.56%\n",
      "Epoch [36/50], Loss: 1.1424, Validation Accuracy: 52.78%\n",
      "Epoch [37/50], Loss: 0.6460, Validation Accuracy: 52.78%\n",
      "Epoch [38/50], Loss: 0.6700, Validation Accuracy: 69.44%\n",
      "Epoch [39/50], Loss: 0.4910, Validation Accuracy: 66.67%\n",
      "Epoch [40/50], Loss: 0.4969, Validation Accuracy: 58.33%\n",
      "Epoch [41/50], Loss: 0.8188, Validation Accuracy: 38.89%\n",
      "Epoch [42/50], Loss: 0.9801, Validation Accuracy: 25.00%\n",
      "Epoch [43/50], Loss: 1.9379, Validation Accuracy: 52.78%\n",
      "Epoch [44/50], Loss: 1.1213, Validation Accuracy: 44.44%\n",
      "Epoch [45/50], Loss: 1.0197, Validation Accuracy: 58.33%\n",
      "Epoch [46/50], Loss: 0.9147, Validation Accuracy: 58.33%\n",
      "Epoch [47/50], Loss: 0.6992, Validation Accuracy: 66.67%\n",
      "Epoch [48/50], Loss: 0.5941, Validation Accuracy: 69.44%\n",
      "Epoch [49/50], Loss: 0.5511, Validation Accuracy: 66.67%\n",
      "Epoch [50/50], Loss: 0.4786, Validation Accuracy: 83.33%\n",
      "Fold 5/5\n",
      "Epoch [1/50], Loss: 1.5591, Validation Accuracy: 69.44%\n",
      "Epoch [2/50], Loss: 1.2410, Validation Accuracy: 61.11%\n",
      "Epoch [3/50], Loss: 1.2215, Validation Accuracy: 58.33%\n",
      "Epoch [4/50], Loss: 1.1488, Validation Accuracy: 75.00%\n",
      "Epoch [5/50], Loss: 0.9965, Validation Accuracy: 75.00%\n",
      "Epoch [6/50], Loss: 0.8012, Validation Accuracy: 77.78%\n",
      "Epoch [7/50], Loss: 0.9119, Validation Accuracy: 83.33%\n",
      "Epoch [8/50], Loss: 0.7635, Validation Accuracy: 88.89%\n",
      "Epoch [9/50], Loss: 0.6772, Validation Accuracy: 86.11%\n",
      "Epoch [10/50], Loss: 0.6021, Validation Accuracy: 91.67%\n",
      "Epoch [11/50], Loss: 0.5797, Validation Accuracy: 94.44%\n",
      "Epoch [12/50], Loss: 0.5430, Validation Accuracy: 86.11%\n",
      "Epoch [13/50], Loss: 0.4722, Validation Accuracy: 97.22%\n",
      "Epoch [14/50], Loss: 0.5412, Validation Accuracy: 91.67%\n",
      "Epoch [15/50], Loss: 0.4582, Validation Accuracy: 94.44%\n",
      "Epoch [16/50], Loss: 0.4305, Validation Accuracy: 86.11%\n",
      "Epoch [17/50], Loss: 0.5042, Validation Accuracy: 97.22%\n",
      "Epoch [18/50], Loss: 0.4260, Validation Accuracy: 86.11%\n",
      "Epoch [19/50], Loss: 0.4354, Validation Accuracy: 94.44%\n",
      "Epoch [20/50], Loss: 0.2754, Validation Accuracy: 91.67%\n",
      "Epoch [21/50], Loss: 0.2882, Validation Accuracy: 94.44%\n",
      "Epoch [22/50], Loss: 0.2199, Validation Accuracy: 94.44%\n",
      "Epoch [23/50], Loss: 0.2528, Validation Accuracy: 91.67%\n",
      "Epoch [24/50], Loss: 0.2578, Validation Accuracy: 94.44%\n",
      "Epoch [25/50], Loss: 0.2244, Validation Accuracy: 94.44%\n",
      "Epoch [26/50], Loss: 0.2299, Validation Accuracy: 97.22%\n",
      "Epoch [27/50], Loss: 0.2391, Validation Accuracy: 91.67%\n",
      "Epoch [28/50], Loss: 0.3341, Validation Accuracy: 94.44%\n",
      "Epoch [29/50], Loss: 0.6567, Validation Accuracy: 80.56%\n",
      "Epoch [30/50], Loss: 1.1526, Validation Accuracy: 77.78%\n",
      "Epoch [31/50], Loss: 0.7465, Validation Accuracy: 83.33%\n",
      "Epoch [32/50], Loss: 0.5893, Validation Accuracy: 88.89%\n",
      "Epoch [33/50], Loss: 0.4872, Validation Accuracy: 86.11%\n",
      "Epoch [34/50], Loss: 0.4636, Validation Accuracy: 88.89%\n",
      "Epoch [35/50], Loss: 0.4193, Validation Accuracy: 91.67%\n",
      "Epoch [36/50], Loss: 0.3457, Validation Accuracy: 100.00%\n",
      "Epoch [37/50], Loss: 0.3709, Validation Accuracy: 91.67%\n",
      "Epoch [38/50], Loss: 0.3223, Validation Accuracy: 91.67%\n",
      "Epoch [39/50], Loss: 0.3003, Validation Accuracy: 94.44%\n",
      "Epoch [40/50], Loss: 0.2569, Validation Accuracy: 94.44%\n",
      "Epoch [41/50], Loss: 0.2493, Validation Accuracy: 88.89%\n",
      "Epoch [42/50], Loss: 0.4818, Validation Accuracy: 86.11%\n",
      "Epoch [43/50], Loss: 0.4998, Validation Accuracy: 86.11%\n",
      "Epoch [44/50], Loss: 0.3199, Validation Accuracy: 91.67%\n",
      "Epoch [45/50], Loss: 0.2785, Validation Accuracy: 97.22%\n",
      "Epoch [46/50], Loss: 0.2023, Validation Accuracy: 94.44%\n",
      "Epoch [47/50], Loss: 0.1616, Validation Accuracy: 94.44%\n",
      "Epoch [48/50], Loss: 0.1459, Validation Accuracy: 94.44%\n",
      "Epoch [49/50], Loss: 0.7008, Validation Accuracy: 86.11%\n",
      "Epoch [50/50], Loss: 0.8818, Validation Accuracy: 91.67%\n",
      "\n",
      "Cross-Validation Results:\n",
      "Fold 1 - Final Loss: 0.1146, Final Accuracy: 78.38%\n",
      "Fold 2 - Final Loss: 0.3234, Final Accuracy: 80.56%\n",
      "Fold 3 - Final Loss: 0.2369, Final Accuracy: 80.56%\n",
      "Fold 4 - Final Loss: 0.4786, Final Accuracy: 83.33%\n",
      "Fold 5 - Final Loss: 0.8818, Final Accuracy: 91.67%\n",
      "Mean Accuracy across 5 folds: 82.90%\n"
     ]
    }
   ],
   "execution_count": 12
  },
  {
   "cell_type": "code",
   "id": "6127e05f92dd575f",
   "metadata": {
    "ExecuteTime": {
     "end_time": "2024-11-28T23:08:32.810317Z",
     "start_time": "2024-11-28T23:08:32.807732Z"
    }
   },
   "source": [],
   "outputs": [],
   "execution_count": null
  },
  {
   "cell_type": "code",
   "id": "a8613f53bbe25105",
   "metadata": {
    "ExecuteTime": {
     "end_time": "2024-11-29T10:03:50.534777Z",
     "start_time": "2024-11-29T10:03:49.983929Z"
    }
   },
   "source": [
    "model.eval()\n",
    "all_labels = []\n",
    "all_predictions = []\n",
    "\n",
    "with torch.no_grad():\n",
    "    for sequences, labels in test_loader:\n",
    "        sequences = sequences.to(device, non_blocking=True)\n",
    "        labels = labels.to(device, non_blocking=True)\n",
    "        outputs = model(sequences)\n",
    "        _, predicted = torch.max(outputs.data, 1)\n",
    "        \n",
    "        # Append to lists\n",
    "        all_labels.extend(labels.cpu().numpy())\n",
    "        all_predictions.extend(predicted.cpu().numpy())\n",
    "\n",
    "# ---------------------- Plot Confusion Matrix ----------------------\n",
    "\n",
    "# Assuming the label mapping is as follows\n",
    "# Original labels: 0, 1, 4, 7, 9\n",
    "# Mapped labels:   0, 1, 2, 3, 4\n",
    "label_mapping = {0: 0, 1: 1, 4: 2, 7: 3, 9: 4}\n",
    "\n",
    "# Class names corresponding to the mapped labels\n",
    "class_names = ['Wyciskanie\\nsztangi\\nleżąc', 'Uginanie\\nbicepsów', 'Przysiad', 'Matwy\\n ciąg', 'Pompka']\n",
    "\n",
    "# Compute confusion matrix\n",
    "cm = confusion_matrix(all_labels, all_predictions)\n",
    "\n",
    "# Plot confusion matrix\n",
    "disp = ConfusionMatrixDisplay(confusion_matrix=cm, display_labels=class_names)\n",
    "disp.plot(cmap=plt.cm.Blues)\n",
    "plt.title('Macierz pomyłek')\n",
    "plt.xlabel('Przewidywane etykiety', fontsize=12)\n",
    "plt.ylabel('Prawdziwe etykiety', fontsize=12)\n",
    "plt.show()"
   ],
   "outputs": [
    {
     "data": {
      "text/plain": [
       "<Figure size 640x480 with 2 Axes>"
      ],
      "image/png": "[encoded data removed]"
     },
     "metadata": {},
     "output_type": "display_data"
    }
   ],
   "execution_count": 17
  },
  {
   "cell_type": "code",
   "id": "6c5a131eaeb6d905",
   "metadata": {
    "ExecuteTime": {
     "end_time": "2024-11-29T09:58:33.508324Z",
     "start_time": "2024-11-29T09:58:33.500059Z"
    }
   },
   "source": [
    "from sklearn.metrics import classification_report\n",
    "\n",
    "print(classification_report(all_labels, all_predictions, target_names=class_names))\n"
   ],
   "outputs": [
    {
     "name": "stdout",
     "output_type": "stream",
     "text": [
      "                          precision    recall  f1-score   support\n",
      "\n",
      "Wyciskanie\n",
      "sztangi\n",
      "leżąc       1.00      1.00      1.00        12\n",
      "       Uginanie\n",
      "bicepsów       1.00      0.80      0.89         5\n",
      "                Przysiad       1.00      0.60      0.75         5\n",
      "             Matwy\n",
      " ciąg       0.57      1.00      0.73         4\n",
      "                  Pompka       1.00      1.00      1.00        10\n",
      "\n",
      "                accuracy                           0.92        36\n",
      "               macro avg       0.91      0.88      0.87        36\n",
      "            weighted avg       0.95      0.92      0.92        36\n",
      "\n"
     ]
    }
   ],
   "execution_count": 16
  },
  {
   "metadata": {
    "ExecuteTime": {
     "end_time": "2024-11-28T23:08:33.040517Z",
     "start_time": "2024-11-28T23:08:33.038096Z"
    }
   },
   "cell_type": "code",
   "source": "",
   "id": "91d192e05a7a2b6e",
   "outputs": [],
   "execution_count": null
  }
 ],
 "metadata": {
  "kernelspec": {
   "display_name": "Python 3",
   "language": "python",
   "name": "python3"
  },
  "language_info": {
   "codemirror_mode": {
    "name": "ipython",
    "version": 2
   },
   "file_extension": ".py",
   "mimetype": "text/x-python",
   "name": "python",
   "nbconvert_exporter": "python",
   "pygments_lexer": "ipython2",
   "version": "2.7.6"
  }
 },
 "nbformat": 4,
 "nbformat_minor": 5
}
