{
 "cells": [
  {
   "cell_type": "code",
   "id": "initial_id",
   "metadata": {
    "collapsed": true,
    "ExecuteTime": {
     "end_time": "2024-10-02T15:48:39.775136Z",
     "start_time": "2024-10-02T15:48:37.382692Z"
    }
   },
   "source": [
    "import numpy as np\n",
    "from sklearn.model_selection import train_test_split\n",
    "from sklearn.metrics import confusion_matrix, ConfusionMatrixDisplay\n",
    "from src.data.exercise_data import ExerciseDataset\n",
    "from torch.utils.data import DataLoader\n",
    "import torch\n",
    "import torch.nn as nn\n",
    "from src.models.lstm import ExerciseLSTM\n",
    "import matplotlib.pyplot as plt"
   ],
   "outputs": [],
   "execution_count": 1
  },
  {
   "metadata": {
    "ExecuteTime": {
     "end_time": "2024-10-02T15:48:43.963750Z",
     "start_time": "2024-10-02T15:48:42.339380Z"
    }
   },
   "cell_type": "code",
   "source": [
    "X = np.load(r'C:\\Users\\barrt\\PycharmProjects\\Gymalyze\\src\\data\\landmarks_data.npy', allow_pickle=True)\n",
    "y = np.load(r'C:\\Users\\barrt\\PycharmProjects\\Gymalyze\\src\\data\\labels_data.npy',    allow_pickle=True)\n",
    "\n",
    "print(f\"Loaded X shape: {X.shape}\")\n",
    "print(f\"Loaded y shape: {y.shape}\")\n",
    "\n",
    "if y.ndim == 2 and y.shape[1] == 1:\n",
    "    y = y.reshape(-1)\n",
    "    \n",
    "print(f\"Loaded X shape: {X.shape}\")\n",
    "print(f\"Loaded y shape: {y.shape}\")"
   ],
   "id": "f704b820a6ea39c5",
   "outputs": [
    {
     "name": "stdout",
     "output_type": "stream",
     "text": [
      "Loaded X shape: (761, 300, 132)\n",
      "Loaded y shape: (761, 1)\n",
      "Loaded X shape: (761, 300, 132)\n",
      "Loaded y shape: (761,)\n"
     ]
    }
   ],
   "execution_count": 2
  },
  {
   "metadata": {
    "ExecuteTime": {
     "end_time": "2024-10-02T15:49:02.996966Z",
     "start_time": "2024-10-02T15:49:02.952303Z"
    }
   },
   "cell_type": "code",
   "source": [
    "labels_to_keep = [0, 1, 4, 7, 9]\n",
    "mask = np.isin(y, labels_to_keep)\n",
    "X_filtered = X[mask]\n",
    "y_filtered = y[mask]\n",
    "\n",
    "print(f\"Filtered X shape: {X_filtered.shape}\")\n",
    "print(f\"Filtered y shape: {y_filtered.shape}\")\n",
    "print(f\"Unique labels in filtered data: {np.unique(y_filtered)}\")\n"
   ],
   "id": "40e26b1906ee364d",
   "outputs": [
    {
     "name": "stdout",
     "output_type": "stream",
     "text": [
      "Filtered X shape: (227, 300, 132)\n",
      "Filtered y shape: (227,)\n",
      "Unique labels in filtered data: [0 1 4 7 9]\n"
     ]
    }
   ],
   "execution_count": 3
  },
  {
   "metadata": {
    "ExecuteTime": {
     "end_time": "2024-10-02T15:49:53.771710Z",
     "start_time": "2024-10-02T15:49:53.766720Z"
    }
   },
   "cell_type": "code",
   "source": [
    "label_mapping = {original_label: new_label for new_label, original_label in enumerate(labels_to_keep)}\n",
    "y_mapped = np.array([label_mapping[label] for label in y_filtered], dtype=np.int64)\n",
    "print(f\"Mapped labels: {np.unique(y_mapped)}\")"
   ],
   "id": "4e7f8e4339629000",
   "outputs": [
    {
     "name": "stdout",
     "output_type": "stream",
     "text": [
      "Mapped labels: [0 1 2 3 4]\n"
     ]
    }
   ],
   "execution_count": 4
  },
  {
   "metadata": {
    "ExecuteTime": {
     "end_time": "2024-10-02T15:50:52.454106Z",
     "start_time": "2024-10-02T15:50:52.271840Z"
    }
   },
   "cell_type": "code",
   "source": [
    "X_train, X_test, y_train, y_test = train_test_split(\n",
    "    X_filtered, y_mapped, test_size=0.2, random_state=42, stratify=y_mapped)\n",
    "\n",
    "train_dataset = ExerciseDataset(X_train, y_train)\n",
    "test_dataset = ExerciseDataset(X_test, y_test)\n",
    "\n",
    "batch_size = 32\n",
    "train_loader = DataLoader(train_dataset, batch_size=batch_size, shuffle=True, num_workers=4, pin_memory=True)\n",
    "test_loader  = DataLoader(test_dataset, batch_size=batch_size, shuffle=False, num_workers=4, pin_memory=True)\n"
   ],
   "id": "87beeba5fcf69706",
   "outputs": [],
   "execution_count": 5
  },
  {
   "metadata": {
    "ExecuteTime": {
     "end_time": "2024-10-02T15:51:39.412518Z",
     "start_time": "2024-10-02T15:51:37.152675Z"
    }
   },
   "cell_type": "code",
   "source": [
    "sequence_length = 300\n",
    "input_size = 132\n",
    "hidden_size = 128\n",
    "num_layers = 2\n",
    "num_classes = len(labels_to_keep)\n",
    "\n",
    "model = ExerciseLSTM(input_size, hidden_size, num_layers, num_classes)\n",
    "\n",
    "device = torch.device('cuda' if torch.cuda.is_available() else 'cpu')\n",
    "print(f\"Using device: {device}\")\n",
    "\n",
    "model.to(device)\n",
    "\n",
    "criterion = nn.CrossEntropyLoss()\n",
    "optimizer = torch.optim.Adam(model.parameters(), lr=0.001)"
   ],
   "id": "b7411c1a1aeb687a",
   "outputs": [
    {
     "name": "stdout",
     "output_type": "stream",
     "text": [
      "Using device: cuda\n"
     ]
    }
   ],
   "execution_count": 6
  },
  {
   "metadata": {
    "ExecuteTime": {
     "end_time": "2024-10-02T15:58:05.548818Z",
     "start_time": "2024-10-02T15:53:52.625383Z"
    }
   },
   "cell_type": "code",
   "source": [
    "num_epochs = 20  # Adjust based on your needs\n",
    "\n",
    "for epoch in range(num_epochs):\n",
    "    model.train()\n",
    "    total_loss = 0\n",
    "    for sequences, labels in train_loader:\n",
    "        sequences = sequences.to(device, non_blocking=True)  # Shape: (batch_size, seq_length, input_size)\n",
    "        labels = labels.to(device, non_blocking=True)\n",
    "        \n",
    "        outputs = model(sequences)\n",
    "        loss = criterion(outputs, labels)\n",
    "        \n",
    "        optimizer.zero_grad()\n",
    "        loss.backward()\n",
    "        optimizer.step()\n",
    "        \n",
    "        total_loss += loss.item()\n",
    "    \n",
    "    avg_loss = total_loss / len(train_loader)\n",
    "    \n",
    "    model.eval()\n",
    "    with torch.no_grad():\n",
    "        correct = 0\n",
    "        total = 0\n",
    "        for sequences, labels in test_loader:\n",
    "            sequences = sequences.to(device, non_blocking=True)\n",
    "            labels = labels.to(device, non_blocking=True)\n",
    "            outputs = model(sequences)\n",
    "            _, predicted = torch.max(outputs.data, 1)\n",
    "            total += labels.size(0)\n",
    "            correct += (predicted == labels).sum().item()\n",
    "        accuracy = 100 * correct / total\n",
    "    \n",
    "    print(f'Epoch [{epoch+1}/{num_epochs}], Loss: {avg_loss:.4f}, Test Accuracy: {accuracy:.2f}%')\n",
    "\n",
    "# ---------------------- Save the Model ----------------------\n",
    "\n",
    "torch.save(model.state_dict(), 'exercise_lstm_model_filtered.pth')\n",
    "print(\"Model saved to 'exercise_lstm_model_filtered.pth'\")"
   ],
   "id": "54b86e73c9c6f798",
   "outputs": [
    {
     "name": "stdout",
     "output_type": "stream",
     "text": [
      "Epoch [1/20], Loss: 1.5843, Test Accuracy: 54.35%\n",
      "Epoch [2/20], Loss: 1.4279, Test Accuracy: 58.70%\n",
      "Epoch [3/20], Loss: 1.0284, Test Accuracy: 60.87%\n",
      "Epoch [4/20], Loss: 0.8529, Test Accuracy: 67.39%\n",
      "Epoch [5/20], Loss: 0.8226, Test Accuracy: 65.22%\n",
      "Epoch [6/20], Loss: 0.6637, Test Accuracy: 71.74%\n",
      "Epoch [7/20], Loss: 0.6623, Test Accuracy: 76.09%\n",
      "Epoch [8/20], Loss: 0.5400, Test Accuracy: 78.26%\n",
      "Epoch [9/20], Loss: 0.4811, Test Accuracy: 82.61%\n",
      "Epoch [10/20], Loss: 0.4615, Test Accuracy: 78.26%\n",
      "Epoch [11/20], Loss: 0.3584, Test Accuracy: 73.91%\n",
      "Epoch [12/20], Loss: 0.3978, Test Accuracy: 86.96%\n",
      "Epoch [13/20], Loss: 0.2703, Test Accuracy: 84.78%\n",
      "Epoch [14/20], Loss: 0.2496, Test Accuracy: 89.13%\n",
      "Epoch [15/20], Loss: 0.2194, Test Accuracy: 76.09%\n",
      "Epoch [16/20], Loss: 0.5626, Test Accuracy: 80.43%\n",
      "Epoch [17/20], Loss: 0.5312, Test Accuracy: 71.74%\n",
      "Epoch [18/20], Loss: 0.5793, Test Accuracy: 80.43%\n",
      "Epoch [19/20], Loss: 0.5430, Test Accuracy: 78.26%\n",
      "Epoch [20/20], Loss: 0.6701, Test Accuracy: 84.78%\n",
      "Model saved to 'exercise_lstm_model_filtered.pth'\n"
     ]
    }
   ],
   "execution_count": 7
  },
  {
   "metadata": {},
   "cell_type": "code",
   "outputs": [],
   "execution_count": null,
   "source": "",
   "id": "6127e05f92dd575f"
  },
  {
   "metadata": {
    "ExecuteTime": {
     "end_time": "2024-10-02T15:58:11.831702Z",
     "start_time": "2024-10-02T15:58:05.555825Z"
    }
   },
   "cell_type": "code",
   "source": [
    "model.eval()\n",
    "all_labels = []\n",
    "all_predictions = []\n",
    "\n",
    "with torch.no_grad():\n",
    "    for sequences, labels in test_loader:\n",
    "        sequences = sequences.to(device, non_blocking=True)\n",
    "        labels = labels.to(device, non_blocking=True)\n",
    "        outputs = model(sequences)\n",
    "        _, predicted = torch.max(outputs.data, 1)\n",
    "        \n",
    "        # Append to lists\n",
    "        all_labels.extend(labels.cpu().numpy())\n",
    "        all_predictions.extend(predicted.cpu().numpy())\n",
    "\n",
    "# ---------------------- Plot Confusion Matrix ----------------------\n",
    "\n",
    "# Assuming the label mapping is as follows\n",
    "# Original labels: 0, 1, 4, 7, 9\n",
    "# Mapped labels:   0, 1, 2, 3, 4\n",
    "label_mapping = {0: 0, 1: 1, 4: 2, 7: 3, 9: 4}\n",
    "\n",
    "# Class names corresponding to the mapped labels\n",
    "class_names = ['Squat', 'Deadlift', 'Bench Press', 'Push-Up', 'Lat Pulldown']\n",
    "\n",
    "# Compute confusion matrix\n",
    "cm = confusion_matrix(all_labels, all_predictions)\n",
    "\n",
    "# Plot confusion matrix\n",
    "disp = ConfusionMatrixDisplay(confusion_matrix=cm, display_labels=class_names)\n",
    "disp.plot(cmap=plt.cm.Blues)\n",
    "plt.title('Confusion Matrix')\n",
    "plt.show()"
   ],
   "id": "a8613f53bbe25105",
   "outputs": [
    {
     "data": {
      "text/plain": [
       "<Figure size 640x480 with 2 Axes>"
      ],
      "image/png": "[encoded data removed]"
     },
     "metadata": {},
     "output_type": "display_data"
    }
   ],
   "execution_count": 8
  },
  {
   "metadata": {
    "ExecuteTime": {
     "end_time": "2024-10-02T16:05:20.529204Z",
     "start_time": "2024-10-02T16:05:20.518248Z"
    }
   },
   "cell_type": "code",
   "source": [
    "from sklearn.metrics import classification_report\n",
    "\n",
    "print(classification_report(all_labels, all_predictions, target_names=class_names))\n"
   ],
   "id": "6c5a131eaeb6d905",
   "outputs": [
    {
     "name": "stdout",
     "output_type": "stream",
     "text": [
      "              precision    recall  f1-score   support\n",
      "\n",
      "       Squat       1.00      0.92      0.96        12\n",
      "    Deadlift       0.89      0.73      0.80        11\n",
      " Bench Press       0.80      0.67      0.73         6\n",
      "     Push-Up       0.75      0.86      0.80         7\n",
      "Lat Pulldown       0.77      1.00      0.87        10\n",
      "\n",
      "    accuracy                           0.85        46\n",
      "   macro avg       0.84      0.83      0.83        46\n",
      "weighted avg       0.86      0.85      0.85        46\n",
      "\n"
     ]
    }
   ],
   "execution_count": 9
  }
 ],
 "metadata": {
  "kernelspec": {
   "display_name": "Python 3",
   "language": "python",
   "name": "python3"
  },
  "language_info": {
   "codemirror_mode": {
    "name": "ipython",
    "version": 2
   },
   "file_extension": ".py",
   "mimetype": "text/x-python",
   "name": "python",
   "nbconvert_exporter": "python",
   "pygments_lexer": "ipython2",
   "version": "2.7.6"
  }
 },
 "nbformat": 4,
 "nbformat_minor": 5
}
